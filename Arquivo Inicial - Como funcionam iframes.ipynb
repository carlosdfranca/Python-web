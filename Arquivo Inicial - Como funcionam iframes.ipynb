{
 "cells": [
  {
   "cell_type": "markdown",
   "id": "4f734f6b",
   "metadata": {},
   "source": [
    "### iFrames - Páginas dentro de Páginas\n",
    "\n",
    "- Às vezes, você vai fazer tudo certo no Selenium e aparentemente não vai funcionar o seu código\n",
    "\n",
    "- Possivelmente o elemento que você está tentando selecionar está dentro de um iframe"
   ]
  },
  {
   "cell_type": "code",
   "execution_count": 8,
   "id": "f8cf076b",
   "metadata": {},
   "outputs": [
    {
     "name": "stderr",
     "output_type": "stream",
     "text": [
      "C:\\Users\\Carlos\\AppData\\Local\\Temp/ipykernel_900/3981760004.py:13: DeprecationWarning: find_element_by_* commands are deprecated. Please use find_element() instead\n",
      "  iframe = driver.find_element_by_tag_name('iframe')\n",
      "C:\\Users\\Carlos\\AppData\\Local\\Temp/ipykernel_900/3981760004.py:15: DeprecationWarning: find_element_by_* commands are deprecated. Please use find_element() instead\n",
      "  iframe = driver.find_element_by_tag_name('iframe')\n",
      "C:\\Users\\Carlos\\AppData\\Local\\Temp/ipykernel_900/3981760004.py:19: DeprecationWarning: find_element_by_* commands are deprecated. Please use find_element() instead\n",
      "  texto = driver.find_element_by_xpath('//*[@id=\"pvExplorationHost\"]/div/div/exploration/div/explore-canvas/div/div[2]/div/div[2]/div[2]/visual-container-repeat/visual-container[19]/transform/div/div[3]/div/visual-modern/div/div/div[2]/div[1]/div[4]/div/div[1]/div[7]/div[1]').text\n"
     ]
    },
    {
     "name": "stdout",
     "output_type": "stream",
     "text": [
      "1,67\n"
     ]
    }
   ],
   "source": [
    "# QUeremos pegar o pontos por jogo mandante da 1ª linha da tabela\n",
    "\n",
    "link = \"https://pbdatatrader.com.br/jogosdodia\"\n",
    "\n",
    "# Normalmente:\n",
    "from selenium import webdriver\n",
    "import time\n",
    "\n",
    "driver = webdriver.Chrome()\n",
    "driver.get(link)\n",
    "time.sleep(2)\n",
    "\n",
    "#entrar nos iframes\n",
    "iframe = driver.find_element_by_tag_name('iframe')\n",
    "driver.switch_to.frame(iframe)\n",
    "iframe = driver.find_element_by_tag_name('iframe')\n",
    "driver.switch_to.frame(iframe)\n",
    "\n",
    "\n",
    "texto = driver.find_element_by_xpath('//*[@id=\"pvExplorationHost\"]/div/div/exploration/div/explore-canvas/div/div[2]/div/div[2]/div[2]/visual-container-repeat/visual-container[19]/transform/div/div[3]/div/visual-modern/div/div/div[2]/div[1]/div[4]/div/div[1]/div[7]/div[1]').text\n",
    "print(texto)"
   ]
  },
  {
   "cell_type": "code",
   "execution_count": null,
   "id": "4072e7b5",
   "metadata": {},
   "outputs": [],
   "source": [
    "#voltar para a pagina principal\n",
    "driver.switch_to.default_content()"
   ]
  }
 ],
 "metadata": {
  "kernelspec": {
   "display_name": "Python 3 (ipykernel)",
   "language": "python",
   "name": "python3"
  },
  "language_info": {
   "codemirror_mode": {
    "name": "ipython",
    "version": 3
   },
   "file_extension": ".py",
   "mimetype": "text/x-python",
   "name": "python",
   "nbconvert_exporter": "python",
   "pygments_lexer": "ipython3",
   "version": "3.9.7"
  }
 },
 "nbformat": 4,
 "nbformat_minor": 5
}
